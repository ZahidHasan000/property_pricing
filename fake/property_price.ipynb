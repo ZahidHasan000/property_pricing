{
 "cells": [
  {
   "cell_type": "code",
   "execution_count": 1,
   "metadata": {},
   "outputs": [],
   "source": [
    "import pandas as pd\n",
    "import numpy as np\n",
    "import random\n",
    "from faker import Faker\n",
    "import matplotlib.pyplot as plt\n",
    "import seaborn as sns\n",
    "from sklearn.model_selection import train_test_split\n",
    "\n",
    "from sklearn.linear_model import Ridge\n",
    "from sklearn.ensemble import GradientBoostingRegressor\n",
    "from sklearn.linear_model import LinearRegression\n",
    "from sklearn.metrics import r2_score\n",
    "\n",
    "from sklearn.ensemble import RandomForestRegressor\n",
    "from sklearn.metrics import mean_squared_error\n",
    "from sklearn.compose import ColumnTransformer\n",
    "from sklearn.impute import SimpleImputer\n",
    "from sklearn.preprocessing import OneHotEncoder, StandardScaler, LabelEncoder\n",
    "from sklearn.pipeline import Pipeline\n",
    "from textblob import TextBlob  # For sentiment analysis\n",
    "from sklearn.neighbors import NearestNeighbors\n",
    "import joblib\n",
    "\n",
    "# # Generate fake property data\n",
    "# fake = Faker()\n",
    "# property_types = [\"Apartment\", \"House\", \"Villa\", \"Cottage\"]\n",
    "# # ... (rest of your data generation code)\n",
    "\n",
    "# data = []  # Your generated data goes here\n",
    "\n",
    "# # Create DataFrame\n",
    "# property_df = pd.DataFrame(data)\n",
    "\n",
    "df = pd.read_csv(\"property_data.csv\")"
   ]
  },
  {
   "cell_type": "code",
   "execution_count": 2,
   "metadata": {},
   "outputs": [],
   "source": [
    "duplicates = df.apply(lambda x: x.duplicated()).sum()\n",
    "# print (duplicates)\n",
    "data = df.drop_duplicates()\n",
    "\n",
    "# Drop the 'property_name' column\n",
    "property_df = data.drop(columns=['images', 'title'])"
   ]
  },
  {
   "cell_type": "code",
   "execution_count": 3,
   "metadata": {},
   "outputs": [
    {
     "name": "stdout",
     "output_type": "stream",
     "text": [
      "0       0.107143\n",
      "1      -0.009877\n",
      "2      -0.077778\n",
      "3       0.175000\n",
      "4       0.222222\n",
      "          ...   \n",
      "4995    0.180556\n",
      "4996   -0.075000\n",
      "4997    0.000000\n",
      "4998    0.191667\n",
      "4999    0.425000\n",
      "Name: description_sentiment, Length: 5000, dtype: float64\n"
     ]
    }
   ],
   "source": [
    "# Sentiment analysis function for description\n",
    "def analyze_sentiment(text):\n",
    "    blob = TextBlob(text)\n",
    "    return blob.sentiment.polarity\n",
    "\n",
    "# Apply sentiment analysis to the description column\n",
    "property_df[\"description_sentiment\"] = property_df[\"description\"].apply(analyze_sentiment)\n",
    "print(property_df[\"description_sentiment\"])"
   ]
  },
  {
   "cell_type": "code",
   "execution_count": 4,
   "metadata": {},
   "outputs": [],
   "source": [
    "# Create Latitude and Longitude features\n",
    "property_df[\"latitude\"] = property_df[\"latitude\"].astype(float)\n",
    "property_df[\"longitude\"] = property_df[\"longitude\"].astype(float)"
   ]
  },
  {
   "cell_type": "code",
   "execution_count": 5,
   "metadata": {},
   "outputs": [
    {
     "name": "stdout",
     "output_type": "stream",
     "text": [
      "0       3006.874731\n",
      "1       2416.693221\n",
      "2       2451.611493\n",
      "3       3247.925859\n",
      "4       1853.944600\n",
      "           ...     \n",
      "4995    1962.837250\n",
      "4996    1695.240780\n",
      "4997    3133.501139\n",
      "4998    1886.310132\n",
      "4999    2473.171552\n",
      "Name: avg_neighbor_price, Length: 5000, dtype: float64\n"
     ]
    }
   ],
   "source": [
    "# # Nearest Neighbors for suggesting prices\n",
    "# locations = property_df[['latitude', 'longitude']].values\n",
    "# k = 5  # Number of neighbors to consider\n",
    "# nn_model = NearestNeighbors(n_neighbors=k)\n",
    "# nn_model.fit(locations)\n",
    "# neighbors_indices = nn_model.kneighbors(locations, n_neighbors=k, return_distance=False)\n",
    "# property_df[\"avg_neighbor_price\"] = property_df.iloc[neighbors_indices].groupby(\"property_id\")[\"base_price\"].transform(\"mean\")\n",
    "\n",
    "# print(property_df[\"avg_neighbor_price\"])\n",
    "\n",
    "# Nearest Neighbors for suggesting prices\n",
    "locations = property_df[['latitude', 'longitude']].values\n",
    "k = 5  # Number of neighbors to consider\n",
    "nn_model = NearestNeighbors(n_neighbors=k)\n",
    "nn_model.fit(locations)\n",
    "neighbors_indices = nn_model.kneighbors(locations, n_neighbors=k, return_distance=False)\n",
    "\n",
    "# Calculate average neighbor price\n",
    "avg_neighbor_prices = []\n",
    "for indices in neighbors_indices:\n",
    "    avg_price = property_df.loc[indices, \"base_price\"].mean()\n",
    "    avg_neighbor_prices.append(avg_price)\n",
    "\n",
    "property_df[\"avg_neighbor_price\"] = avg_neighbor_prices\n",
    "\n",
    "print(property_df[\"avg_neighbor_price\"])\n"
   ]
  },
  {
   "cell_type": "code",
   "execution_count": 6,
   "metadata": {},
   "outputs": [],
   "source": [
    "# Preprocessing and modeling pipeline\n",
    "numeric_features = [\"number_of_bedrooms\", \"base_price\", \"bathrooms\", \"beds\", \"guests\", \"description_sentiment\", \"avg_neighbor_price\"]\n",
    "property_df[numeric_features] = property_df[numeric_features].fillna(property_df[numeric_features].mean())\n",
    "\n",
    "categorical_features = [\"location\", \"property_type\", \"option\", \"amenities\", \"seasonality\", \"bed_type\", \"neighborhood\", \"guest_type\"]\n",
    "property_df[categorical_features] = property_df[categorical_features].fillna(property_df[categorical_features].mode().iloc[0])\n",
    "\n",
    "# numeric_transformer = Pipeline(steps=[\n",
    "#     ('imputer', SimpleImputer(strategy='mean')),\n",
    "#     ('scaler', StandardScaler())\n",
    "# ])\n",
    "\n",
    "# categorical_transformer = Pipeline(steps=[\n",
    "#     ('imputer', SimpleImputer(strategy='constant', fill_value='missing')),\n",
    "#     ('onehot', OneHotEncoder(handle_unknown='ignore'))\n",
    "# ])\n",
    "\n",
    "# preprocessor = ColumnTransformer(\n",
    "#     transformers=[\n",
    "#         ('num', numeric_transformer, numeric_features),\n",
    "#         ('cat', categorical_transformer, categorical_features)\n",
    "#     ])\n",
    "\n",
    "# model_pipeline = Pipeline(steps=[\n",
    "#     ('preprocessor', preprocessor),\n",
    "#     ('model', RandomForestRegressor(n_estimators=100, random_state=42))\n",
    "# ])"
   ]
  },
  {
   "cell_type": "code",
   "execution_count": 7,
   "metadata": {},
   "outputs": [],
   "source": [
    "label_encoder = LabelEncoder()\n",
    "for feature in categorical_features:\n",
    "    property_df[feature] = label_encoder.fit_transform(property_df[feature])\n",
    "\n",
    "# Calculate correlation matrix for all features\n",
    "# all_features = numerical_features + list(data_encoded.columns)\n",
    "# correlation_matrix = data.corr()\n",
    "\n",
    "# # Create a heatmap\n",
    "# plt.figure(figsize=(20, 10))\n",
    "# sns.heatmap(correlation_matrix, annot=True, cmap=\"coolwarm\")\n",
    "# plt.title(\"Correlation Matrix\")\n",
    "# plt.show()"
   ]
  },
  {
   "cell_type": "code",
   "execution_count": 8,
   "metadata": {},
   "outputs": [],
   "source": [
    "# # Create interaction terms\n",
    "# property_df['bedrooms_bathrooms_interaction'] = property_df['number_of_bedrooms'] * property_df['bathrooms']\n",
    "\n",
    "# # Create polynomial features\n",
    "# property_df['beds_squared'] = property_df['beds'] ** 2\n",
    "\n",
    "# # Create derived ratios\n",
    "# property_df['price_per_bedroom'] = property_df['base_price'] / property_df['number_of_bedrooms']\n",
    "# property_df.head(2)"
   ]
  },
  {
   "cell_type": "code",
   "execution_count": 9,
   "metadata": {},
   "outputs": [],
   "source": [
    "# Remove extreme outliers in base_price\n",
    "property_df = property_df[property_df['base_price'] < 5000]"
   ]
  },
  {
   "cell_type": "code",
   "execution_count": 10,
   "metadata": {},
   "outputs": [],
   "source": [
    "# Transformation\n",
    "property_df['log_base_price'] = np.log(property_df['base_price'])"
   ]
  },
  {
   "cell_type": "code",
   "execution_count": 11,
   "metadata": {},
   "outputs": [],
   "source": [
    "# Split data into features and target\n",
    "# X = property_df.drop(columns=[\"base_price\", \"log_base_price\", \"description\", \"description_sentiment\", \"avg_neighbor_price\", \"bedrooms_bathrooms_interaction\", \"beds_squared\", \"price_per_bedroom\"])  # Features excluding base_price\n",
    "# y = property_df[\"log_base_price\"]  # Target variable\n",
    "\n",
    "# X = property_df.drop(columns=[\"base_price\", \"description\", \"description_sentiment\", \"avg_neighbor_price\", \"bedrooms_bathrooms_interaction\", \"beds_squared\", \"price_per_bedroom\"])  # Features excluding base_price\n",
    "# y = property_df[\"base_price\"]  # Target variable\n",
    "\n",
    "X = property_df.drop(columns=[\"base_price\", \"log_base_price\", \"description\", \"description_sentiment\", \"avg_neighbor_price\"])  # Features excluding base_price\n",
    "y = property_df[\"log_base_price\"]  # Target variable\n",
    "\n",
    "# Split data into training and testing sets\n",
    "X_train, X_test, y_train, y_test = train_test_split(X, y, test_size=0.2, random_state=42)"
   ]
  },
  {
   "cell_type": "code",
   "execution_count": 12,
   "metadata": {},
   "outputs": [
    {
     "data": {
      "text/html": [
       "<div>\n",
       "<style scoped>\n",
       "    .dataframe tbody tr th:only-of-type {\n",
       "        vertical-align: middle;\n",
       "    }\n",
       "\n",
       "    .dataframe tbody tr th {\n",
       "        vertical-align: top;\n",
       "    }\n",
       "\n",
       "    .dataframe thead th {\n",
       "        text-align: right;\n",
       "    }\n",
       "</style>\n",
       "<table border=\"1\" class=\"dataframe\">\n",
       "  <thead>\n",
       "    <tr style=\"text-align: right;\">\n",
       "      <th></th>\n",
       "      <th>location</th>\n",
       "      <th>latitude</th>\n",
       "      <th>longitude</th>\n",
       "      <th>property_type</th>\n",
       "      <th>option</th>\n",
       "      <th>guests</th>\n",
       "      <th>number_of_bedrooms</th>\n",
       "      <th>amenities</th>\n",
       "      <th>seasonality</th>\n",
       "      <th>base_price</th>\n",
       "      <th>bathrooms</th>\n",
       "      <th>bed_type</th>\n",
       "      <th>beds</th>\n",
       "      <th>neighborhood</th>\n",
       "      <th>guest_type</th>\n",
       "      <th>description</th>\n",
       "      <th>description_sentiment</th>\n",
       "      <th>avg_neighbor_price</th>\n",
       "      <th>log_base_price</th>\n",
       "    </tr>\n",
       "  </thead>\n",
       "  <tbody>\n",
       "    <tr>\n",
       "      <th>0</th>\n",
       "      <td>3883</td>\n",
       "      <td>-30.071680</td>\n",
       "      <td>-156.619822</td>\n",
       "      <td>5</td>\n",
       "      <td>2</td>\n",
       "      <td>4</td>\n",
       "      <td>5</td>\n",
       "      <td>3830</td>\n",
       "      <td>2</td>\n",
       "      <td>3339.355493</td>\n",
       "      <td>9</td>\n",
       "      <td>2</td>\n",
       "      <td>7</td>\n",
       "      <td>3</td>\n",
       "      <td>1</td>\n",
       "      <td>Audience discover theory himself his. Federal ...</td>\n",
       "      <td>0.107143</td>\n",
       "      <td>3006.874731</td>\n",
       "      <td>8.113533</td>\n",
       "    </tr>\n",
       "    <tr>\n",
       "      <th>1</th>\n",
       "      <td>2527</td>\n",
       "      <td>-65.997038</td>\n",
       "      <td>-36.710449</td>\n",
       "      <td>7</td>\n",
       "      <td>0</td>\n",
       "      <td>1</td>\n",
       "      <td>2</td>\n",
       "      <td>4386</td>\n",
       "      <td>0</td>\n",
       "      <td>4435.880429</td>\n",
       "      <td>3</td>\n",
       "      <td>2</td>\n",
       "      <td>4</td>\n",
       "      <td>3</td>\n",
       "      <td>0</td>\n",
       "      <td>Another tough young if health. Energy fund off...</td>\n",
       "      <td>-0.009877</td>\n",
       "      <td>2416.693221</td>\n",
       "      <td>8.397481</td>\n",
       "    </tr>\n",
       "  </tbody>\n",
       "</table>\n",
       "</div>"
      ],
      "text/plain": [
       "   location   latitude   longitude  property_type  option  guests   \n",
       "0      3883 -30.071680 -156.619822              5       2       4  \\\n",
       "1      2527 -65.997038  -36.710449              7       0       1   \n",
       "\n",
       "   number_of_bedrooms  amenities  seasonality   base_price  bathrooms   \n",
       "0                   5       3830            2  3339.355493          9  \\\n",
       "1                   2       4386            0  4435.880429          3   \n",
       "\n",
       "   bed_type  beds  neighborhood  guest_type   \n",
       "0         2     7             3           1  \\\n",
       "1         2     4             3           0   \n",
       "\n",
       "                                         description  description_sentiment   \n",
       "0  Audience discover theory himself his. Federal ...               0.107143  \\\n",
       "1  Another tough young if health. Energy fund off...              -0.009877   \n",
       "\n",
       "   avg_neighbor_price  log_base_price  \n",
       "0         3006.874731        8.113533  \n",
       "1         2416.693221        8.397481  "
      ]
     },
     "execution_count": 12,
     "metadata": {},
     "output_type": "execute_result"
    }
   ],
   "source": [
    "property_df.head(2)"
   ]
  },
  {
   "cell_type": "code",
   "execution_count": 13,
   "metadata": {},
   "outputs": [
    {
     "data": {
      "text/html": [
       "<div>\n",
       "<style scoped>\n",
       "    .dataframe tbody tr th:only-of-type {\n",
       "        vertical-align: middle;\n",
       "    }\n",
       "\n",
       "    .dataframe tbody tr th {\n",
       "        vertical-align: top;\n",
       "    }\n",
       "\n",
       "    .dataframe thead th {\n",
       "        text-align: right;\n",
       "    }\n",
       "</style>\n",
       "<table border=\"1\" class=\"dataframe\">\n",
       "  <thead>\n",
       "    <tr style=\"text-align: right;\">\n",
       "      <th></th>\n",
       "      <th>location</th>\n",
       "      <th>latitude</th>\n",
       "      <th>longitude</th>\n",
       "      <th>property_type</th>\n",
       "      <th>option</th>\n",
       "      <th>guests</th>\n",
       "      <th>number_of_bedrooms</th>\n",
       "      <th>amenities</th>\n",
       "      <th>seasonality</th>\n",
       "      <th>bathrooms</th>\n",
       "      <th>bed_type</th>\n",
       "      <th>beds</th>\n",
       "      <th>neighborhood</th>\n",
       "      <th>guest_type</th>\n",
       "    </tr>\n",
       "  </thead>\n",
       "  <tbody>\n",
       "    <tr>\n",
       "      <th>0</th>\n",
       "      <td>3883</td>\n",
       "      <td>-30.071680</td>\n",
       "      <td>-156.619822</td>\n",
       "      <td>5</td>\n",
       "      <td>2</td>\n",
       "      <td>4</td>\n",
       "      <td>5</td>\n",
       "      <td>3830</td>\n",
       "      <td>2</td>\n",
       "      <td>9</td>\n",
       "      <td>2</td>\n",
       "      <td>7</td>\n",
       "      <td>3</td>\n",
       "      <td>1</td>\n",
       "    </tr>\n",
       "    <tr>\n",
       "      <th>1</th>\n",
       "      <td>2527</td>\n",
       "      <td>-65.997038</td>\n",
       "      <td>-36.710449</td>\n",
       "      <td>7</td>\n",
       "      <td>0</td>\n",
       "      <td>1</td>\n",
       "      <td>2</td>\n",
       "      <td>4386</td>\n",
       "      <td>0</td>\n",
       "      <td>3</td>\n",
       "      <td>2</td>\n",
       "      <td>4</td>\n",
       "      <td>3</td>\n",
       "      <td>0</td>\n",
       "    </tr>\n",
       "  </tbody>\n",
       "</table>\n",
       "</div>"
      ],
      "text/plain": [
       "   location   latitude   longitude  property_type  option  guests   \n",
       "0      3883 -30.071680 -156.619822              5       2       4  \\\n",
       "1      2527 -65.997038  -36.710449              7       0       1   \n",
       "\n",
       "   number_of_bedrooms  amenities  seasonality  bathrooms  bed_type  beds   \n",
       "0                   5       3830            2          9         2     7  \\\n",
       "1                   2       4386            0          3         2     4   \n",
       "\n",
       "   neighborhood  guest_type  \n",
       "0             3           1  \n",
       "1             3           0  "
      ]
     },
     "execution_count": 13,
     "metadata": {},
     "output_type": "execute_result"
    }
   ],
   "source": [
    "X.head(2)"
   ]
  },
  {
   "cell_type": "code",
   "execution_count": 14,
   "metadata": {},
   "outputs": [
    {
     "data": {
      "text/plain": [
       "0    8.113533\n",
       "1    8.397481\n",
       "Name: log_base_price, dtype: float64"
      ]
     },
     "execution_count": 14,
     "metadata": {},
     "output_type": "execute_result"
    }
   ],
   "source": [
    "y.head(2)"
   ]
  },
  {
   "cell_type": "code",
   "execution_count": 15,
   "metadata": {},
   "outputs": [],
   "source": [
    "# Initialize StandardScaler\n",
    "scaler = StandardScaler()\n",
    "\n",
    "# Fit and transform the scaler on training data\n",
    "X_train_scaled = scaler.fit_transform(X_train)\n",
    "\n",
    "# Transform the test data using the same scaler\n",
    "X_test_scaled = scaler.transform(X_test)"
   ]
  },
  {
   "cell_type": "code",
   "execution_count": 16,
   "metadata": {},
   "outputs": [
    {
     "name": "stdout",
     "output_type": "stream",
     "text": [
      "Linear Regression - MSE: 0.8082, R-squared: 0.0001\n",
      "Ridge Regression - MSE: 0.8082, R-squared: 0.0001\n",
      "Random Forest Regressor - MSE: 0.8363, R-squared: -0.0347\n",
      "Gradient Boosting Regressor - MSE: 0.8266, R-squared: -0.0228\n"
     ]
    }
   ],
   "source": [
    "models = {\n",
    "    \"Linear Regression\": LinearRegression(),\n",
    "    \"Ridge Regression\": Ridge(),\n",
    "    \"Random Forest Regressor\": RandomForestRegressor(random_state=42),\n",
    "    \"Gradient Boosting Regressor\": GradientBoostingRegressor(random_state=42)\n",
    "}\n",
    "\n",
    "for model_name, model in models.items():\n",
    "    model.fit(X_train_scaled, y_train)\n",
    "    y_pred = model.predict(X_test_scaled)\n",
    "    mse = mean_squared_error(y_test, y_pred)\n",
    "    r2 = r2_score(y_test, y_pred)\n",
    "    print(f\"{model_name} - MSE: {mse:.4f}, R-squared: {r2:.4f}\")"
   ]
  },
  {
   "cell_type": "code",
   "execution_count": 17,
   "metadata": {},
   "outputs": [],
   "source": [
    "# # Fit the model pipeline\n",
    "# model_pipeline.fit(X_train, y_train)\n",
    "\n",
    "# # Predict base prices\n",
    "# y_pred = model_pipeline.predict(X_test)\n",
    "\n",
    "# # Evaluate the model\n",
    "# mse = mean_squared_error(y_test, y_pred)\n",
    "# print(\"Mean Squared Error:\", mse)"
   ]
  }
 ],
 "metadata": {
  "kernelspec": {
   "display_name": "Python 3",
   "language": "python",
   "name": "python3"
  },
  "language_info": {
   "codemirror_mode": {
    "name": "ipython",
    "version": 3
   },
   "file_extension": ".py",
   "mimetype": "text/x-python",
   "name": "python",
   "nbconvert_exporter": "python",
   "pygments_lexer": "ipython3",
   "version": "3.11.3"
  },
  "orig_nbformat": 4
 },
 "nbformat": 4,
 "nbformat_minor": 2
}
